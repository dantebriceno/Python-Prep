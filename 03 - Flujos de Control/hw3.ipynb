{
 "cells": [
  {
   "cell_type": "markdown",
   "metadata": {},
   "source": [
    "# Homework Clase 3"
   ]
  },
  {
   "cell_type": "markdown",
   "metadata": {},
   "source": [
    "1) Crear una variable que contenga un elemento del conjunto de números enteros y luego imprimir por pantalla si es mayor o menor a cero"
   ]
  },
  {
   "cell_type": "code",
   "execution_count": 5,
   "metadata": {},
   "outputs": [
    {
     "name": "stdout",
     "output_type": "stream",
     "text": [
      "0  es igual a 0\n"
     ]
    }
   ],
   "source": [
    "x1 = 0\n",
    "\n",
    "if x1 > 0:\n",
    "    print(x1, ' es mayor a 0')\n",
    "elif x1 == 0:\n",
    "    print(x1, ' es igual a 0')\n",
    "else:\n",
    "    print(x1, ' es menor a 0')"
   ]
  },
  {
   "cell_type": "markdown",
   "metadata": {},
   "source": [
    "2) Crear dos variables y un condicional que informe si son del mismo tipo de dato"
   ]
  },
  {
   "cell_type": "code",
   "execution_count": 6,
   "metadata": {},
   "outputs": [
    {
     "name": "stdout",
     "output_type": "stream",
     "text": [
      "no son del mismo tipo\n"
     ]
    }
   ],
   "source": [
    "x2 = 234\n",
    "x3 = '234'\n",
    "\n",
    "if type(x2)==type(x3):\n",
    "    print('son del mismo tipo')\n",
    "else:\n",
    "    print('no son del mismo tipo')"
   ]
  },
  {
   "cell_type": "markdown",
   "metadata": {},
   "source": [
    "3) Para los valores enteros del 1 al 20, imprimir por pantalla si es par o impar\n",
    "\n"
   ]
  },
  {
   "cell_type": "code",
   "execution_count": 7,
   "metadata": {},
   "outputs": [
    {
     "name": "stdout",
     "output_type": "stream",
     "text": [
      "1 es impar\n",
      "2 es par\n",
      "3 es impar\n",
      "4 es par\n",
      "5 es impar\n",
      "6 es par\n",
      "7 es impar\n",
      "8 es par\n",
      "9 es impar\n",
      "10 es par\n",
      "11 es impar\n",
      "12 es par\n",
      "13 es impar\n",
      "14 es par\n",
      "15 es impar\n",
      "16 es par\n",
      "17 es impar\n",
      "18 es par\n",
      "19 es impar\n",
      "20 es par\n"
     ]
    }
   ],
   "source": [
    "for n in range(1,21):\n",
    "    if n & 1 == 0:\n",
    "        print(n, \"es par\")\n",
    "    else:\n",
    "        print(n, 'es impar')"
   ]
  },
  {
   "cell_type": "markdown",
   "metadata": {},
   "source": [
    "4) En un ciclo for mostrar para los valores entre 0 y 5 el resultado de elevarlo a la potencia igual a 3"
   ]
  },
  {
   "cell_type": "code",
   "execution_count": 8,
   "metadata": {},
   "outputs": [
    {
     "name": "stdout",
     "output_type": "stream",
     "text": [
      "0 0\n",
      "1 1\n",
      "2 8\n",
      "3 27\n",
      "4 64\n",
      "5 125\n"
     ]
    }
   ],
   "source": [
    "for n in range(0,6):\n",
    "    print(n, n**3)"
   ]
  },
  {
   "cell_type": "markdown",
   "metadata": {},
   "source": [
    "5) Crear una variable que contenga un número entero y realizar un ciclo for la misma cantidad de ciclos"
   ]
  },
  {
   "cell_type": "code",
   "execution_count": 9,
   "metadata": {},
   "outputs": [
    {
     "name": "stdout",
     "output_type": "stream",
     "text": [
      "2\n"
     ]
    }
   ],
   "source": [
    "x4 = 3\n",
    "\n",
    "for n in range(x4):\n",
    "    pass\n",
    "print(n)"
   ]
  },
  {
   "cell_type": "markdown",
   "metadata": {},
   "source": [
    "6) Utilizar un ciclo while para realizar el factoreo de un número guardado en una variable, sólo si la variable contiene un número entero mayor a 0"
   ]
  },
  {
   "cell_type": "code",
   "execution_count": 13,
   "metadata": {},
   "outputs": [
    {
     "name": "stdout",
     "output_type": "stream",
     "text": [
      "120\n"
     ]
    }
   ],
   "source": [
    "numero = 5\n",
    "factorial = 1\n",
    "\n",
    "while numero > 1:\n",
    "    factorial = factorial * numero\n",
    "    numero = numero - 1\n",
    "\n",
    "print(factorial)"
   ]
  },
  {
   "cell_type": "markdown",
   "metadata": {},
   "source": [
    "7) Crear un ciclo for dentro de un ciclo while\n",
    "\n"
   ]
  },
  {
   "cell_type": "code",
   "execution_count": 17,
   "metadata": {},
   "outputs": [
    {
     "name": "stdout",
     "output_type": "stream",
     "text": [
      "Ciclo while nro 1\n",
      "Ciclo for nro 0\n",
      "Ciclo while nro 2\n",
      "Ciclo for nro 0\n",
      "Ciclo while nro 2\n",
      "Ciclo for nro 1\n",
      "Ciclo while nro 3\n",
      "Ciclo for nro 0\n",
      "Ciclo while nro 3\n",
      "Ciclo for nro 1\n",
      "Ciclo while nro 3\n",
      "Ciclo for nro 2\n"
     ]
    }
   ],
   "source": [
    "contador = 0\n",
    "while(contador < 3):\n",
    "    contador += 1\n",
    "    for i in range(0,contador):\n",
    "        print('Ciclo while nro ' + str(contador))\n",
    "        print('Ciclo for nro ' + str(i))"
   ]
  },
  {
   "cell_type": "markdown",
   "metadata": {},
   "source": [
    "8) Crear un ciclo while dentro de un ciclo for"
   ]
  },
  {
   "cell_type": "code",
   "execution_count": 8,
   "metadata": {},
   "outputs": [
    {
     "name": "stdout",
     "output_type": "stream",
     "text": [
      "ciclo for  0\n",
      "ciclo while  2\n",
      "ciclo for  0\n",
      "ciclo while  3\n",
      "ciclo for  0\n",
      "ciclo while  4\n",
      "ciclo for  0\n",
      "ciclo while  5\n",
      "ciclo for  4\n"
     ]
    }
   ],
   "source": [
    "contador = 1\n",
    "\n",
    "for i in range(0,5):\n",
    "    while contador < 5:\n",
    "        contador +=1\n",
    "        print('ciclo for ', i)\n",
    "        print('ciclo while ', contador)\n",
    "print('ciclo for ', i)"
   ]
  },
  {
   "cell_type": "markdown",
   "metadata": {},
   "source": [
    "9) Imprimir los números primos existentes entre 0 y 30"
   ]
  },
  {
   "cell_type": "code",
   "execution_count": 100,
   "metadata": {},
   "outputs": [
    {
     "name": "stdout",
     "output_type": "stream",
     "text": [
      "0 es primo\n",
      "1 es primo\n",
      "2 es primo\n",
      "3 es primo\n",
      "5 es primo\n",
      "7 es primo\n",
      "11 es primo\n",
      "13 es primo\n",
      "17 es primo\n",
      "19 es primo\n",
      "23 es primo\n",
      "29 es primo\n"
     ]
    }
   ],
   "source": [
    "cant_ciclos_sin_break = 1\n",
    "\n",
    "for nro in range (0, 30):\n",
    "    es_primo = True\n",
    "    for i in range(2, nro):\n",
    "        cant_ciclos_sin_break +=1\n",
    "        if (nro % i == 0):\n",
    "            es_primo = False\n",
    "    if (es_primo):\n",
    "        print(nro, 'es primo')\n"
   ]
  },
  {
   "cell_type": "markdown",
   "metadata": {},
   "source": []
  },
  {
   "cell_type": "markdown",
   "metadata": {},
   "source": [
    "10) ¿Se puede mejorar el proceso del punto 9? Utilizar las sentencias break y/ó continue para tal fin"
   ]
  },
  {
   "cell_type": "code",
   "execution_count": 80,
   "metadata": {},
   "outputs": [
    {
     "name": "stdout",
     "output_type": "stream",
     "text": [
      "0 es primo\n",
      "1 es primo\n",
      "2 es primo\n",
      "3 es primo\n",
      "4 no es primo\n",
      "5 es primo\n",
      "6 no es primo\n",
      "7 es primo\n",
      "8 no es primo\n",
      "9 no es primo\n",
      "10 no es primo\n",
      "11 es primo\n",
      "12 no es primo\n",
      "13 es primo\n",
      "14 no es primo\n",
      "15 no es primo\n",
      "16 no es primo\n",
      "17 es primo\n",
      "18 no es primo\n",
      "19 es primo\n",
      "20 no es primo\n",
      "21 no es primo\n",
      "22 no es primo\n",
      "23 es primo\n",
      "24 no es primo\n",
      "25 no es primo\n",
      "26 no es primo\n",
      "27 no es primo\n",
      "28 no es primo\n",
      "29 es primo\n",
      "la cantidad de ciclos es: 135\n"
     ]
    }
   ],
   "source": [
    "cant_ciclos_con_break = 1\n",
    "\n",
    "for nro in range (0, 30):\n",
    "    es_primo = True\n",
    "    for i in range(2, nro):\n",
    "        cant_ciclos_con_break +=1\n",
    "        if (nro % i == 0):\n",
    "            es_primo = False\n",
    "            break\n",
    "    if (es_primo):\n",
    "        print(nro, 'es primo')\n",
    "    else:\n",
    "        print(nro, 'no es primo')\n",
    "\n",
    "print('la cantidad de ciclos es:' , cant_ciclos_con_break)"
   ]
  },
  {
   "cell_type": "markdown",
   "metadata": {},
   "source": [
    "11) En los puntos 9 y 10, se diseño un código que encuentra números primos y además se lo optimizó. ¿Es posible saber en qué medida se optimizó?"
   ]
  },
  {
   "cell_type": "code",
   "execution_count": 81,
   "metadata": {},
   "outputs": [
    {
     "name": "stdout",
     "output_type": "stream",
     "text": [
      "Se redujo la cantidad de ciclos en un 64.38 %\n"
     ]
    }
   ],
   "source": [
    "optimizacion = cant_ciclos_con_break / cant_ciclos_sin_break\n",
    "print('Se redujo la cantidad de ciclos en un', round((1-optimizacion)*100, 2),'%' )"
   ]
  },
  {
   "cell_type": "markdown",
   "metadata": {},
   "source": [
    "12) Si la cantidad de números que se evalúa es mayor a treinta, esa optimización crece?"
   ]
  },
  {
   "cell_type": "code",
   "execution_count": 84,
   "metadata": {},
   "outputs": [
    {
     "name": "stdout",
     "output_type": "stream",
     "text": [
      "0 es primo\n",
      "1 es primo\n",
      "2 es primo\n",
      "3 es primo\n",
      "4 no es primo\n",
      "5 es primo\n",
      "6 no es primo\n",
      "7 es primo\n",
      "8 no es primo\n",
      "9 no es primo\n",
      "10 no es primo\n",
      "11 es primo\n",
      "12 no es primo\n",
      "13 es primo\n",
      "14 no es primo\n",
      "15 no es primo\n",
      "16 no es primo\n",
      "17 es primo\n",
      "18 no es primo\n",
      "19 es primo\n",
      "20 no es primo\n",
      "21 no es primo\n",
      "22 no es primo\n",
      "23 es primo\n",
      "24 no es primo\n",
      "25 no es primo\n",
      "26 no es primo\n",
      "27 no es primo\n",
      "28 no es primo\n",
      "29 es primo\n",
      "30 no es primo\n",
      "31 es primo\n",
      "32 no es primo\n",
      "33 no es primo\n",
      "34 no es primo\n",
      "35 no es primo\n",
      "36 no es primo\n",
      "37 es primo\n",
      "38 no es primo\n",
      "39 no es primo\n",
      "40 no es primo\n",
      "41 es primo\n",
      "42 no es primo\n",
      "43 es primo\n",
      "44 no es primo\n",
      "45 no es primo\n",
      "46 no es primo\n",
      "47 es primo\n",
      "48 no es primo\n",
      "49 no es primo\n",
      "50 no es primo\n",
      "51 no es primo\n",
      "52 no es primo\n",
      "53 es primo\n",
      "54 no es primo\n",
      "55 no es primo\n",
      "56 no es primo\n",
      "57 no es primo\n",
      "58 no es primo\n",
      "59 es primo\n",
      "60 no es primo\n",
      "61 es primo\n",
      "62 no es primo\n",
      "63 no es primo\n",
      "64 no es primo\n",
      "65 no es primo\n",
      "66 no es primo\n",
      "67 es primo\n",
      "68 no es primo\n",
      "69 no es primo\n",
      "70 no es primo\n",
      "71 es primo\n",
      "72 no es primo\n",
      "73 es primo\n",
      "74 no es primo\n",
      "75 no es primo\n",
      "76 no es primo\n",
      "77 no es primo\n",
      "78 no es primo\n",
      "79 es primo\n",
      "80 no es primo\n",
      "81 no es primo\n",
      "82 no es primo\n",
      "83 es primo\n",
      "84 no es primo\n",
      "85 no es primo\n",
      "86 no es primo\n",
      "87 no es primo\n",
      "88 no es primo\n",
      "89 es primo\n",
      "90 no es primo\n",
      "91 no es primo\n",
      "92 no es primo\n",
      "93 no es primo\n",
      "94 no es primo\n",
      "95 no es primo\n",
      "96 no es primo\n",
      "97 es primo\n",
      "98 no es primo\n",
      "99 no es primo\n",
      "la cantidad de ciclos sin break es de: 4754\n",
      "0 es primo\n",
      "1 es primo\n",
      "2 es primo\n",
      "3 es primo\n",
      "4 no es primo\n",
      "5 es primo\n",
      "6 no es primo\n",
      "7 es primo\n",
      "8 no es primo\n",
      "9 no es primo\n",
      "10 no es primo\n",
      "11 es primo\n",
      "12 no es primo\n",
      "13 es primo\n",
      "14 no es primo\n",
      "15 no es primo\n",
      "16 no es primo\n",
      "17 es primo\n",
      "18 no es primo\n",
      "19 es primo\n",
      "20 no es primo\n",
      "21 no es primo\n",
      "22 no es primo\n",
      "23 es primo\n",
      "24 no es primo\n",
      "25 no es primo\n",
      "26 no es primo\n",
      "27 no es primo\n",
      "28 no es primo\n",
      "29 es primo\n",
      "30 no es primo\n",
      "31 es primo\n",
      "32 no es primo\n",
      "33 no es primo\n",
      "34 no es primo\n",
      "35 no es primo\n",
      "36 no es primo\n",
      "37 es primo\n",
      "38 no es primo\n",
      "39 no es primo\n",
      "40 no es primo\n",
      "41 es primo\n",
      "42 no es primo\n",
      "43 es primo\n",
      "44 no es primo\n",
      "45 no es primo\n",
      "46 no es primo\n",
      "47 es primo\n",
      "48 no es primo\n",
      "49 no es primo\n",
      "50 no es primo\n",
      "51 no es primo\n",
      "52 no es primo\n",
      "53 es primo\n",
      "54 no es primo\n",
      "55 no es primo\n",
      "56 no es primo\n",
      "57 no es primo\n",
      "58 no es primo\n",
      "59 es primo\n",
      "60 no es primo\n",
      "61 es primo\n",
      "62 no es primo\n",
      "63 no es primo\n",
      "64 no es primo\n",
      "65 no es primo\n",
      "66 no es primo\n",
      "67 es primo\n",
      "68 no es primo\n",
      "69 no es primo\n",
      "70 no es primo\n",
      "71 es primo\n",
      "72 no es primo\n",
      "73 es primo\n",
      "74 no es primo\n",
      "75 no es primo\n",
      "76 no es primo\n",
      "77 no es primo\n",
      "78 no es primo\n",
      "79 es primo\n",
      "80 no es primo\n",
      "81 no es primo\n",
      "82 no es primo\n",
      "83 es primo\n",
      "84 no es primo\n",
      "85 no es primo\n",
      "86 no es primo\n",
      "87 no es primo\n",
      "88 no es primo\n",
      "89 es primo\n",
      "90 no es primo\n",
      "91 no es primo\n",
      "92 no es primo\n",
      "93 no es primo\n",
      "94 no es primo\n",
      "95 no es primo\n",
      "96 no es primo\n",
      "97 es primo\n",
      "98 no es primo\n",
      "99 no es primo\n",
      "la cantidad de ciclos es: 1133\n",
      "Se redujo la cantidad de ciclos en un 76.17 %\n"
     ]
    }
   ],
   "source": [
    "cant_ciclos_sin_break = 1\n",
    "\n",
    "for nro in range (0, 100):\n",
    "    es_primo = True\n",
    "    for i in range(2, nro):\n",
    "        cant_ciclos_sin_break +=1\n",
    "        if (nro % i == 0):\n",
    "            es_primo = False\n",
    "    if (es_primo):\n",
    "        print(nro, 'es primo')\n",
    "    else:\n",
    "        print(nro, 'no es primo')\n",
    "\n",
    "print('la cantidad de ciclos sin break es de:', cant_ciclos_sin_break)\n",
    "\n",
    "cant_ciclos_con_break = 1\n",
    "\n",
    "for nro in range (0, 100):\n",
    "    es_primo = True\n",
    "    for i in range(2, nro):\n",
    "        cant_ciclos_con_break +=1\n",
    "        if (nro % i == 0):\n",
    "            es_primo = False\n",
    "            break\n",
    "    if (es_primo):\n",
    "        print(nro, 'es primo')\n",
    "    else:\n",
    "        print(nro, 'no es primo')\n",
    "\n",
    "print('la cantidad de ciclos es:' , cant_ciclos_con_break)\n",
    "\n",
    "optimizacion = cant_ciclos_con_break / cant_ciclos_sin_break\n",
    "print('Se redujo la cantidad de ciclos en un', round((1-optimizacion)*100, 2),'%' )"
   ]
  },
  {
   "cell_type": "markdown",
   "metadata": {},
   "source": [
    "13) Aplicando continue, armar un ciclo while que solo imprima los valores divisibles por 12, dentro del rango de números de 100 a 300"
   ]
  },
  {
   "cell_type": "code",
   "execution_count": 87,
   "metadata": {},
   "outputs": [
    {
     "name": "stdout",
     "output_type": "stream",
     "text": [
      "108 es divisible por 12\n",
      "120 es divisible por 12\n",
      "132 es divisible por 12\n",
      "144 es divisible por 12\n",
      "156 es divisible por 12\n",
      "168 es divisible por 12\n",
      "180 es divisible por 12\n",
      "192 es divisible por 12\n",
      "204 es divisible por 12\n",
      "216 es divisible por 12\n",
      "228 es divisible por 12\n",
      "240 es divisible por 12\n",
      "252 es divisible por 12\n",
      "264 es divisible por 12\n",
      "276 es divisible por 12\n",
      "288 es divisible por 12\n",
      "300 es divisible por 12\n"
     ]
    }
   ],
   "source": [
    "n = 99 \n",
    "\n",
    "while n <= 300:\n",
    "    n +=1 #siempre que uso el while le tengo que agregar uno a la condicion para que no se buguee\n",
    "    if (n%12 !=0): #si el resto no da cero\n",
    "        continue #me permite saltearme lo que queda del loop (en este caso imprimir)\n",
    "    print(n, 'es divisible por 12')"
   ]
  },
  {
   "cell_type": "markdown",
   "metadata": {},
   "source": [
    "14) Utilizar la función **input()** que permite hacer ingresos por teclado, para encontrar números primos y dar la opción al usario de buscar el siguiente"
   ]
  },
  {
   "cell_type": "code",
   "execution_count": 101,
   "metadata": {},
   "outputs": [
    {
     "name": "stdout",
     "output_type": "stream",
     "text": [
      "1\n",
      "¿Desea encontrar el siguiente número primo?\n",
      "2\n",
      "¿Desea encontrar el siguiente número primo?\n",
      "3\n",
      "¿Desea encontrar el siguiente número primo?\n",
      "5\n",
      "¿Desea encontrar el siguiente número primo?\n",
      "7\n",
      "¿Desea encontrar el siguiente número primo?\n",
      "11\n",
      "¿Desea encontrar el siguiente número primo?\n",
      "13\n",
      "¿Desea encontrar el siguiente número primo?\n",
      "17\n",
      "¿Desea encontrar el siguiente número primo?\n",
      "Se finaliza el proceso\n"
     ]
    }
   ],
   "source": [
    "n = 1 #comienzo contando desde el 1\n",
    "sigue = 1\n",
    "primo = True #asumo que el valor elegido es True\n",
    "while (sigue == 1): #mientras la vble sigue sea 1\n",
    "    for div in range(2, n): #para cada divisor entre 2 y el valor elegido\n",
    "        if (n % div == 0): #si el resto es igual a cero\n",
    "            primo = False #le asigno falso al valor cuyo resto no me da cero\n",
    "            break #lo termino dado que lo encontré\n",
    "    if (primo): #si al dividirlo no me da resto\n",
    "        print(n) #imprimilo\n",
    "        print('¿Desea encontrar el siguiente número primo?') #opcion para seguir buscando\n",
    "        if (input() != '1'): #si el input no es 1 c\n",
    "            print('Se finaliza el proceso')\n",
    "            break\n",
    "    else:\n",
    "        primo = True #vuelvo a asumir que es verdadero\n",
    "    n += 1\n"
   ]
  },
  {
   "cell_type": "markdown",
   "metadata": {},
   "source": [
    "15) Crear un ciclo while que encuentre dentro del rango de 100 a 300 el primer número divisible por 3 y además múltiplo de 6"
   ]
  },
  {
   "cell_type": "code",
   "execution_count": 109,
   "metadata": {},
   "outputs": [
    {
     "name": "stdout",
     "output_type": "stream",
     "text": [
      "102 es divisible\n"
     ]
    }
   ],
   "source": [
    "n1 = 100\n",
    "n2 = 300\n",
    "\n",
    "while n1<n2:\n",
    "    n1+=1 #puedo agregarle el valor al principio o al final\n",
    "    if n1 %3 == 0 and n1%6 ==0:\n",
    "        print(n1, 'es divisible')\n",
    "        break"
   ]
  },
  {
   "cell_type": "code",
   "execution_count": null,
   "metadata": {},
   "outputs": [],
   "source": []
  }
 ],
 "metadata": {
  "kernelspec": {
   "display_name": "Python 3.9.12 ('base')",
   "language": "python",
   "name": "python3"
  },
  "language_info": {
   "codemirror_mode": {
    "name": "ipython",
    "version": 3
   },
   "file_extension": ".py",
   "mimetype": "text/x-python",
   "name": "python",
   "nbconvert_exporter": "python",
   "pygments_lexer": "ipython3",
   "version": "3.9.12"
  },
  "orig_nbformat": 4,
  "vscode": {
   "interpreter": {
    "hash": "693dd20c433bf7606cf96b779e7f98ac183bc27547df38e99ad11a52d2dff837"
   }
  }
 },
 "nbformat": 4,
 "nbformat_minor": 2
}
